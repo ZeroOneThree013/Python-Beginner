{
 "cells": [
  {
   "cell_type": "markdown",
   "id": "921f97de-c0b4-484f-a352-d9466678aa43",
   "metadata": {},
   "source": [
    "## 第一次開原檔"
   ]
  },
  {
   "cell_type": "code",
   "execution_count": 1,
   "id": "f7c99210-e846-40bf-a114-4fdf1329f747",
   "metadata": {},
   "outputs": [],
   "source": [
    "from PIL import Image   # PIL ( Python Imaging Library )影像處理標準庫\n",
    "pic = Image.open('D:\\\\金融科技\\\\HW\\\\圖檔\\\\Adventure-Time.jpg')"
   ]
  },
  {
   "cell_type": "code",
   "execution_count": 3,
   "id": "18d619b3-cb64-4f55-9fc9-70a5dcb58ca9",
   "metadata": {},
   "outputs": [
    {
     "name": "stdout",
     "output_type": "stream",
     "text": [
      "圖片寬度 : 1080\n",
      "圖片高度 : 608\n"
     ]
    }
   ],
   "source": [
    "print(f'圖片寬度 : {pic.width}')\n",
    "print(f'圖片高度 : {pic.height}')"
   ]
  },
  {
   "cell_type": "code",
   "execution_count": 5,
   "id": "238d9bb7-e53a-4b07-ac00-64da79d81937",
   "metadata": {},
   "outputs": [
    {
     "name": "stdout",
     "output_type": "stream",
     "text": [
      "圖片檔案格式 : JPEG\n",
      "圖片色彩模式 : RGB\n",
      "圖片大小 : (1080, 608)\n"
     ]
    }
   ],
   "source": [
    "print(f'圖片檔案格式 : {pic.format}')\n",
    "print(f'圖片色彩模式 : {pic.mode}')\n",
    "print(f'圖片大小 : {pic.size}')"
   ]
  },
  {
   "cell_type": "code",
   "execution_count": 7,
   "id": "a8a0e7aa-3756-4230-acdb-636f81ebcb9b",
   "metadata": {},
   "outputs": [],
   "source": [
    "pic.show()"
   ]
  },
  {
   "cell_type": "code",
   "execution_count": 9,
   "id": "8780914b-31b2-4a78-9e66-69906969f66b",
   "metadata": {},
   "outputs": [
    {
     "name": "stdout",
     "output_type": "stream",
     "text": [
      "原本的圖片色彩模式 : RGB\n",
      "轉換黑白後的圖片色彩模式 : 1\n"
     ]
    }
   ],
   "source": [
    "print(f'原本的圖片色彩模式 : {pic.mode}')\n",
    "new_pic = pic.convert('1')\n",
    "new_pic.show()\n",
    "print(f'轉換黑白後的圖片色彩模式 : {new_pic.mode}')"
   ]
  },
  {
   "cell_type": "code",
   "execution_count": 11,
   "id": "f483e997-e8b1-44b2-bae9-65c724ffcbc6",
   "metadata": {},
   "outputs": [],
   "source": [
    "new_pic = pic.rotate(30)\n",
    "new_pic.show()"
   ]
  },
  {
   "cell_type": "code",
   "execution_count": 13,
   "id": "63f0b93b-fed2-47e8-a68d-811b7f64d68b",
   "metadata": {},
   "outputs": [],
   "source": [
    "new_pic2 = pic.rotate(-30)\n",
    "new_pic2.show()"
   ]
  },
  {
   "cell_type": "markdown",
   "id": "84565bbc-d96a-43f3-a69d-9f2e3408b368",
   "metadata": {},
   "source": [
    "## 第二次開原檔"
   ]
  },
  {
   "cell_type": "code",
   "execution_count": 15,
   "id": "c33af513-ba9f-474b-bf0d-2f2dc3d41bd4",
   "metadata": {},
   "outputs": [],
   "source": [
    "from PIL import Image\n",
    "from PIL import ImageFilter\n",
    "pic = Image.open('D:\\\\金融科技\\\\HW\\\\圖檔\\\\Adventure-Time.jpg')"
   ]
  },
  {
   "cell_type": "code",
   "execution_count": 17,
   "id": "7f794757-fed5-4e43-b867-45abaaba9d17",
   "metadata": {},
   "outputs": [],
   "source": [
    "new_pic = pic.filter(ImageFilter.CONTOUR)\n",
    "new_pic.save('D:\\\\金融科技\\\\HW\\\\圖檔\\\\new_Adventure-Time.jpg')\n",
    "new_pic.show()"
   ]
  },
  {
   "cell_type": "code",
   "execution_count": 19,
   "id": "6b06b2bb-42ea-4292-b7bc-f574e710c4b3",
   "metadata": {},
   "outputs": [
    {
     "name": "stdout",
     "output_type": "stream",
     "text": [
      "原圖大小 : (1080, 608)\n",
      "縮放後圖形大小 : (500, 500)\n"
     ]
    }
   ],
   "source": [
    "print(f'原圖大小 : {pic.size}')\n",
    "new_pic2 = pic.resize((500,500))\n",
    "print(f'縮放後圖形大小 : {new_pic2.size}')\n",
    "new_pic2.save('D:\\\\金融科技\\\\HW\\\\圖檔\\\\new1_Adventure-Time.jpg')\n",
    "new_pic2.show()"
   ]
  },
  {
   "cell_type": "markdown",
   "id": "6b7a9ab5-206d-42bc-8099-8c423d1cc1e7",
   "metadata": {},
   "source": [
    "## 第三次開原檔"
   ]
  },
  {
   "cell_type": "code",
   "execution_count": 21,
   "id": "67e87d9a-3908-4f15-b716-0216c86bb4c0",
   "metadata": {},
   "outputs": [],
   "source": [
    "from PIL import Image, ImageFont, ImageDraw\n",
    "pic = Image.open('D:\\\\金融科技\\\\HW\\\\圖檔\\\\Adventure-Time.jpg')"
   ]
  },
  {
   "cell_type": "code",
   "execution_count": 23,
   "id": "33a46fa4-2dee-4d59-afb9-72b402c4c225",
   "metadata": {},
   "outputs": [],
   "source": [
    "t_font = ImageFont.truetype('c://Windows//Fonts//Arial//arial.ttf', 30)\n",
    "draw = ImageDraw.Draw(pic)\n",
    "\n",
    "draw.text((20,30), 'Taiwan', font=t_font, fill=(305,100,50,200))\n",
    "draw.text((20,65), 'Adventure Time', font=t_font, fill=(150,0,230,250))\n",
    "pic.show()"
   ]
  }
 ],
 "metadata": {
  "kernelspec": {
   "display_name": "Python 3 (ipykernel)",
   "language": "python",
   "name": "python3"
  },
  "language_info": {
   "codemirror_mode": {
    "name": "ipython",
    "version": 3
   },
   "file_extension": ".py",
   "mimetype": "text/x-python",
   "name": "python",
   "nbconvert_exporter": "python",
   "pygments_lexer": "ipython3",
   "version": "3.12.7"
  }
 },
 "nbformat": 4,
 "nbformat_minor": 5
}
