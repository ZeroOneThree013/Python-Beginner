{
 "cells": [
  {
   "cell_type": "code",
   "execution_count": 1,
   "id": "fe91f0e6-fa8a-4603-bc62-15eb9c5da2b5",
   "metadata": {},
   "outputs": [
    {
     "name": "stdin",
     "output_type": "stream",
     "text": [
      "Please input dx =  4\n"
     ]
    },
    {
     "name": "stdout",
     "output_type": "stream",
     "text": [
      "area = 20.0\n"
     ]
    }
   ],
   "source": [
    "import numpy as np\n",
    "\n",
    "dx = float(input('Please input dx = '))\n",
    "area = 0\n",
    "y = 0\n",
    "for x in np.arange(2, 5, dx):\n",
    "    y = (x**2) + 1\n",
    "    area = area + (y*dx)\n",
    "print(f'area = {area}')"
   ]
  }
 ],
 "metadata": {
  "kernelspec": {
   "display_name": "Python 3 (ipykernel)",
   "language": "python",
   "name": "python3"
  },
  "language_info": {
   "codemirror_mode": {
    "name": "ipython",
    "version": 3
   },
   "file_extension": ".py",
   "mimetype": "text/x-python",
   "name": "python",
   "nbconvert_exporter": "python",
   "pygments_lexer": "ipython3",
   "version": "3.12.7"
  }
 },
 "nbformat": 4,
 "nbformat_minor": 5
}
