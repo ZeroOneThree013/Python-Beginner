{
 "cells": [
  {
   "cell_type": "code",
   "execution_count": 1,
   "id": "a436e10f-3623-439c-9664-05ea1b5fcb85",
   "metadata": {},
   "outputs": [
    {
     "name": "stdout",
     "output_type": "stream",
     "text": [
      "36\n"
     ]
    }
   ],
   "source": [
    "# x^2\n",
    "\n",
    "lamret = lambda x : x**2\n",
    "print(lamret(6))"
   ]
  },
  {
   "cell_type": "code",
   "execution_count": 2,
   "id": "0a95fe11-a5f6-41c4-a599-2d777ed6c6e8",
   "metadata": {},
   "outputs": [
    {
     "data": {
      "text/plain": [
       "function"
      ]
     },
     "execution_count": 2,
     "metadata": {},
     "output_type": "execute_result"
    }
   ],
   "source": [
    "type(lamret)"
   ]
  },
  {
   "cell_type": "code",
   "execution_count": 3,
   "id": "2a1c9164-c329-40ce-8f75-6700ef19ef84",
   "metadata": {},
   "outputs": [
    {
     "name": "stdout",
     "output_type": "stream",
     "text": [
      "2.0\n"
     ]
    }
   ],
   "source": [
    "# f(x,y,z) = (x-y)^z/2\n",
    "\n",
    "lambret2 = lambda x, y, z : ((x-y)**z)/2\n",
    "print(lambret2(3,1,2))"
   ]
  },
  {
   "cell_type": "code",
   "execution_count": 4,
   "id": "b35794d1-75d2-4443-83bf-f8f844026468",
   "metadata": {},
   "outputs": [
    {
     "name": "stdout",
     "output_type": "stream",
     "text": [
      "16\n"
     ]
    }
   ],
   "source": [
    "lambret3 = lambda x, y : x**2 if x>y else 1/x**2\n",
    "print(lambret3(4,3))"
   ]
  },
  {
   "cell_type": "code",
   "execution_count": 5,
   "id": "509def2f-34bc-4131-8c83-48f7ac102ef9",
   "metadata": {},
   "outputs": [
    {
     "name": "stdout",
     "output_type": "stream",
     "text": [
      "0.0625\n"
     ]
    }
   ],
   "source": [
    "print(lambret3(4,5))"
   ]
  },
  {
   "cell_type": "code",
   "execution_count": 6,
   "id": "1a1216ca-5b0b-4114-b9cc-f6c0d25bf003",
   "metadata": {},
   "outputs": [
    {
     "name": "stdout",
     "output_type": "stream",
     "text": [
      "呼叫函數 (x**2) + (4*x) + 6 = 38\n"
     ]
    }
   ],
   "source": [
    "# x^2 + 4x + 6\n",
    "\n",
    "def polyequ(x):\n",
    "    return (x**2) + (4*x) + 6\n",
    "\n",
    "sample = 4\n",
    "result = polyequ(sample)\n",
    "print(f'呼叫函數 (x**2) + (4*x) + 6 = {result}')"
   ]
  }
 ],
 "metadata": {
  "kernelspec": {
   "display_name": "Python 3 (ipykernel)",
   "language": "python",
   "name": "python3"
  },
  "language_info": {
   "codemirror_mode": {
    "name": "ipython",
    "version": 3
   },
   "file_extension": ".py",
   "mimetype": "text/x-python",
   "name": "python",
   "nbconvert_exporter": "python",
   "pygments_lexer": "ipython3",
   "version": "3.12.7"
  }
 },
 "nbformat": 4,
 "nbformat_minor": 5
}
