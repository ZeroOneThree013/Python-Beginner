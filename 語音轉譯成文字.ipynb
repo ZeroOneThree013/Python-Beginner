{
 "cells": [
  {
   "cell_type": "markdown",
   "id": "2068c9ab-7dca-4618-82e9-59375e7fc2ba",
   "metadata": {},
   "source": [
    "# **中文**"
   ]
  },
  {
   "cell_type": "code",
   "execution_count": 1,
   "id": "2e8db437-fe88-4f61-92de-c67ceb894f33",
   "metadata": {},
   "outputs": [
    {
     "name": "stdout",
     "output_type": "stream",
     "text": [
      "請開始說話：\n",
      "你說的是： 今天天氣真好\n"
     ]
    }
   ],
   "source": [
    "import speech_recognition as sr\n",
    "\n",
    "r = sr.Recognizer()\n",
    "\n",
    "with sr.Microphone() as source:\n",
    "    print(\"請開始說話：\")\n",
    "    audio = r.listen(source)\n",
    "\n",
    "try:\n",
    "    text = r.recognize_google(audio, language='zh-TW')\n",
    "    print(\"你說的是：\", text)\n",
    "except sr.UnknownValueError:\n",
    "    print(\"Google 語音辨識無法聽懂你說的話。\")\n",
    "except sr.RequestError as e:\n",
    "    print(f\"無法連接 Google 語音辨識服務；錯誤：{e}\")"
   ]
  },
  {
   "cell_type": "markdown",
   "id": "a81d5bb8-122e-4d68-8731-c1806a022476",
   "metadata": {},
   "source": [
    "# **英文**"
   ]
  },
  {
   "cell_type": "code",
   "execution_count": 3,
   "id": "b748673e-575b-4c73-a3f7-5fb0ea345cbf",
   "metadata": {},
   "outputs": [
    {
     "name": "stdout",
     "output_type": "stream",
     "text": [
      "請開始說話：\n",
      "你說的是： today is my lucky day\n"
     ]
    }
   ],
   "source": [
    "import speech_recognition as sr\n",
    "\n",
    "r = sr.Recognizer()\n",
    "\n",
    "with sr.Microphone() as source:\n",
    "    print(\"請開始說話：\")\n",
    "    audio = r.listen(source)\n",
    "\n",
    "try:\n",
    "    text = r.recognize_google(audio, language='en')\n",
    "    print(\"你說的是：\", text)\n",
    "except sr.UnknownValueError:\n",
    "    print(\"Google 語音辨識無法聽懂你說的話。\")\n",
    "except sr.RequestError as e:\n",
    "    print(f\"無法連接 Google 語音辨識服務；錯誤：{e}\")"
   ]
  },
  {
   "cell_type": "markdown",
   "id": "c34f68f6-1182-4209-98f2-dab04cf361fb",
   "metadata": {},
   "source": [
    "# **日文**"
   ]
  },
  {
   "cell_type": "code",
   "execution_count": 5,
   "id": "6dd96f23-9569-4786-ab64-844ebde70157",
   "metadata": {},
   "outputs": [
    {
     "name": "stdout",
     "output_type": "stream",
     "text": [
      "請開始說話：\n",
      "你說的是： ありがとうございます\n"
     ]
    }
   ],
   "source": [
    "import speech_recognition as sr\n",
    "\n",
    "r = sr.Recognizer()\n",
    "\n",
    "with sr.Microphone() as source:\n",
    "    print(\"請開始說話：\")\n",
    "    audio = r.listen(source)\n",
    "\n",
    "try:\n",
    "    text = r.recognize_google(audio, language='ja')\n",
    "    print(\"你說的是：\", text)\n",
    "except sr.UnknownValueError:\n",
    "    print(\"Google 語音辨識無法聽懂你說的話。\")\n",
    "except sr.RequestError as e:\n",
    "    print(f\"無法連接 Google 語音辨識服務；錯誤：{e}\")"
   ]
  },
  {
   "cell_type": "markdown",
   "id": "dc37d7c0-e363-4e43-ac82-96c0b36e1484",
   "metadata": {},
   "source": [
    "# **韓文**"
   ]
  },
  {
   "cell_type": "code",
   "execution_count": 7,
   "id": "dd5f5584-17e5-4434-91c2-90637dec3b2a",
   "metadata": {},
   "outputs": [
    {
     "name": "stdout",
     "output_type": "stream",
     "text": [
      "請開始說話：\n",
      "你說的是： 너무 좋아요\n"
     ]
    }
   ],
   "source": [
    "import speech_recognition as sr\n",
    "\n",
    "r = sr.Recognizer()\n",
    "\n",
    "with sr.Microphone() as source:\n",
    "    print(\"請開始說話：\")\n",
    "    audio = r.listen(source)\n",
    "\n",
    "try:\n",
    "    text = r.recognize_google(audio, language='ko')\n",
    "    print(\"你說的是：\", text)\n",
    "except sr.UnknownValueError:\n",
    "    print(\"Google 語音辨識無法聽懂你說的話。\")\n",
    "except sr.RequestError as e:\n",
    "    print(f\"無法連接 Google 語音辨識服務；錯誤：{e}\")"
   ]
  }
 ],
 "metadata": {
  "kernelspec": {
   "display_name": "Python 3 (ipykernel)",
   "language": "python",
   "name": "python3"
  },
  "language_info": {
   "codemirror_mode": {
    "name": "ipython",
    "version": 3
   },
   "file_extension": ".py",
   "mimetype": "text/x-python",
   "name": "python",
   "nbconvert_exporter": "python",
   "pygments_lexer": "ipython3",
   "version": "3.12.7"
  }
 },
 "nbformat": 4,
 "nbformat_minor": 5
}
