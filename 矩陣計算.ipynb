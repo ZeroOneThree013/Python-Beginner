{
 "cells": [
  {
   "cell_type": "code",
   "execution_count": 1,
   "id": "7a7a767a-0c56-441b-a7b3-dce5f1f3c6bf",
   "metadata": {},
   "outputs": [],
   "source": [
    "import numpy as np"
   ]
  },
  {
   "cell_type": "code",
   "execution_count": 2,
   "id": "29b3f0ea-703c-480f-9e26-99d3fac380c9",
   "metadata": {},
   "outputs": [],
   "source": [
    "A = np.array([[3,-9], [2,4]])"
   ]
  },
  {
   "cell_type": "code",
   "execution_count": 3,
   "id": "91c4a813-7d1a-4c18-857b-ba0d16862e94",
   "metadata": {},
   "outputs": [
    {
     "name": "stdout",
     "output_type": "stream",
     "text": [
      "[[ 3 -9]\n",
      " [ 2  4]]\n"
     ]
    }
   ],
   "source": [
    "print(A)"
   ]
  },
  {
   "cell_type": "code",
   "execution_count": 4,
   "id": "467560e7-79fb-4247-b55a-94739325ca33",
   "metadata": {},
   "outputs": [],
   "source": [
    "B = np.array([-42,2])"
   ]
  },
  {
   "cell_type": "code",
   "execution_count": 5,
   "id": "3280f9be-7643-48d9-afe7-2e4a4e23e69a",
   "metadata": {},
   "outputs": [],
   "source": [
    "Z = np.linalg.solve(A, B)   # linalg 線性代數 (Linear Algebra)"
   ]
  },
  {
   "cell_type": "code",
   "execution_count": 6,
   "id": "5aca571b-0db8-43f1-8fb9-d7ccf9aa8632",
   "metadata": {},
   "outputs": [
    {
     "name": "stdout",
     "output_type": "stream",
     "text": [
      "[-5.  3.]\n"
     ]
    }
   ],
   "source": [
    "print(Z)"
   ]
  },
  {
   "cell_type": "code",
   "execution_count": 7,
   "id": "2ef137d9-2f43-4b3a-a99f-c4ffb758c343",
   "metadata": {},
   "outputs": [],
   "source": [
    "M = np.array([[1,-2,-1], [2,2,-1], [-1,-1,2]])"
   ]
  },
  {
   "cell_type": "code",
   "execution_count": 8,
   "id": "1a1ca4d8-58df-40a7-bc05-2aaf62921e8b",
   "metadata": {},
   "outputs": [
    {
     "name": "stdout",
     "output_type": "stream",
     "text": [
      "[[ 1 -2 -1]\n",
      " [ 2  2 -1]\n",
      " [-1 -1  2]]\n"
     ]
    }
   ],
   "source": [
    "print(M)"
   ]
  },
  {
   "cell_type": "code",
   "execution_count": 9,
   "id": "61f6ef11-abd7-461d-9f4b-220f5cfbb747",
   "metadata": {},
   "outputs": [],
   "source": [
    "c = np.array([6,1,1])"
   ]
  },
  {
   "cell_type": "code",
   "execution_count": 10,
   "id": "0c01fd8b-9d43-4cfe-a1d2-9f1f08bca59c",
   "metadata": {},
   "outputs": [],
   "source": [
    "y = np.linalg.solve(M, c)"
   ]
  },
  {
   "cell_type": "code",
   "execution_count": 11,
   "id": "185a68a6-f0b3-4df6-a208-93a28e54e8c7",
   "metadata": {},
   "outputs": [
    {
     "name": "stdout",
     "output_type": "stream",
     "text": [
      "[ 3. -2.  1.]\n"
     ]
    }
   ],
   "source": [
    "print(y)"
   ]
  },
  {
   "cell_type": "code",
   "execution_count": 12,
   "id": "6b4fbf64-68ce-49f3-98e9-37a6401afdac",
   "metadata": {},
   "outputs": [],
   "source": [
    "# www.youtube.com/watch?v=44pAWI7v5Zk"
   ]
  }
 ],
 "metadata": {
  "kernelspec": {
   "display_name": "Python 3 (ipykernel)",
   "language": "python",
   "name": "python3"
  },
  "language_info": {
   "codemirror_mode": {
    "name": "ipython",
    "version": 3
   },
   "file_extension": ".py",
   "mimetype": "text/x-python",
   "name": "python",
   "nbconvert_exporter": "python",
   "pygments_lexer": "ipython3",
   "version": "3.12.7"
  }
 },
 "nbformat": 4,
 "nbformat_minor": 5
}
