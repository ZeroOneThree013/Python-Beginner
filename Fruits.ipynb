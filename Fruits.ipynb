{
 "cells": [
  {
   "cell_type": "code",
   "execution_count": 7,
   "id": "4787e8cf-cc98-48bc-a4a6-5deb2b0d411a",
   "metadata": {},
   "outputs": [
    {
     "name": "stdout",
     "output_type": "stream",
     "text": [
      "Today's fruit is : Pear\n"
     ]
    }
   ],
   "source": [
    "# 隨機選水果\n",
    "\n",
    "import random\n",
    "\n",
    "fruits = ['Apple', 'Orange', 'Banana', 'Pear', 'Tomato']\n",
    "cf = random.choice(fruits)\n",
    "\n",
    "print(f\"Today's fruit is : {cf}\")  # 老師的寫法: print(\"Today's fruit is :\" + cf)"
   ]
  }
 ],
 "metadata": {
  "kernelspec": {
   "display_name": "Python 3 (ipykernel)",
   "language": "python",
   "name": "python3"
  },
  "language_info": {
   "codemirror_mode": {
    "name": "ipython",
    "version": 3
   },
   "file_extension": ".py",
   "mimetype": "text/x-python",
   "name": "python",
   "nbconvert_exporter": "python",
   "pygments_lexer": "ipython3",
   "version": "3.12.7"
  }
 },
 "nbformat": 4,
 "nbformat_minor": 5
}
