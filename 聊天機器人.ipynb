{
 "cells": [
  {
   "cell_type": "code",
   "execution_count": 1,
   "id": "22bfb6a0-a9e7-46c3-aa96-0d22bffc1968",
   "metadata": {},
   "outputs": [],
   "source": [
    "import speech_recognition\n",
    "def listenTo():\n",
    "    r = speech_recognition.Recognizer()\n",
    "    with speech_recognition.Microphone() as source:\n",
    "        r.adjust_for_ambient_noise(source)\n",
    "        print(\"請開始說話...\")\n",
    "        audio = r.listen(source)\n",
    "    return r.recognize_google(audio, language='zh-TW')"
   ]
  },
  {
   "cell_type": "code",
   "execution_count": 3,
   "id": "a936c9f3-edd4-477c-8a27-f4c98c49078c",
   "metadata": {},
   "outputs": [
    {
     "name": "stdout",
     "output_type": "stream",
     "text": [
      "pygame 2.6.1 (SDL 2.28.4, Python 3.12.7)\n",
      "Hello from the pygame community. https://www.pygame.org/contribute.html\n"
     ]
    }
   ],
   "source": [
    "import tempfile\n",
    "from gtts import gTTS\n",
    "from pygame import mixer\n",
    "mixer.init()"
   ]
  },
  {
   "cell_type": "code",
   "execution_count": 5,
   "id": "ebd13823-fc7e-4f01-b1d0-4e9c30ef1fa3",
   "metadata": {},
   "outputs": [],
   "source": [
    "def speak(sentence):\n",
    "    with tempfile.NamedTemporaryFile(delete=True) as fp:\n",
    "        tts = gTTS(text=sentence, lang='zh-TW')\n",
    "        tts.save('{}.mp3'.format(fp.name))\n",
    "        mixer.music.load('{}.mp3'.format(fp.name))\n",
    "        mixer.music.play()\n",
    "\n",
    "speak('大家好')"
   ]
  },
  {
   "cell_type": "code",
   "execution_count": 7,
   "id": "5ac85334-98ff-46f0-8432-97e6461461c0",
   "metadata": {},
   "outputs": [],
   "source": [
    "qa = {\n",
    "    '你叫什麼名字': '我叫謝宜珊',\n",
    "    '請問你幾歲了': '我今年22歲了',\n",
    "    '你的星座是什麼': '我的星座是獅子座'\n",
    "}"
   ]
  },
  {
   "cell_type": "code",
   "execution_count": 9,
   "id": "9313960e-56f2-4a18-b036-cf500449c055",
   "metadata": {},
   "outputs": [
    {
     "name": "stdout",
     "output_type": "stream",
     "text": [
      "請開始說話...\n",
      "回答:我今年22歲了\n"
     ]
    }
   ],
   "source": [
    "response = qa.get(listenTo(), '聽不懂，請再輸入更多台詞')\n",
    "speak(response)\n",
    "print(f'回答:{response}')"
   ]
  }
 ],
 "metadata": {
  "kernelspec": {
   "display_name": "Python 3 (ipykernel)",
   "language": "python",
   "name": "python3"
  },
  "language_info": {
   "codemirror_mode": {
    "name": "ipython",
    "version": 3
   },
   "file_extension": ".py",
   "mimetype": "text/x-python",
   "name": "python",
   "nbconvert_exporter": "python",
   "pygments_lexer": "ipython3",
   "version": "3.12.7"
  }
 },
 "nbformat": 4,
 "nbformat_minor": 5
}
