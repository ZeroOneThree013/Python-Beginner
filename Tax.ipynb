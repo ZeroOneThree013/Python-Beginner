{
 "cells": [
  {
   "cell_type": "code",
   "execution_count": 7,
   "id": "6fd9eebb-4f77-4f09-a630-2080b4936bdc",
   "metadata": {},
   "outputs": [
    {
     "name": "stdin",
     "output_type": "stream",
     "text": [
      "請輸入淨年所得額 :  11000000\n"
     ]
    },
    {
     "name": "stdout",
     "output_type": "stream",
     "text": [
      "\n",
      "應繳稅額 = 3645000.0\n"
     ]
    }
   ],
   "source": [
    "level1 = 520000 * 0.05\n",
    "level2 = (1170000 - 520000) * 0.12\n",
    "level3 = (2350000 - 1170000) * 0.2\n",
    "level4 = (4400000 - 2350000) * 0.3\n",
    "level5 = (10000000 - 4400000) * 0.4\n",
    "\n",
    "income = int(input('請輸入淨年所得額 : '))\n",
    "\n",
    "print('')\n",
    "\n",
    "if income <= 520000:\n",
    "    tax = income * 0.05\n",
    "elif income <= 1170000:\n",
    "    tax = level1 + ((income - 520000) * 0.12)\n",
    "elif income <= 2350000:\n",
    "    tax = level1 + level2 + ((income - 1170000) * 0.2)\n",
    "elif income <= 4400000:\n",
    "    tax = level1 + level2 + level3 + ((income - 2350000) * 0.3)\n",
    "elif income <= 10000000:\n",
    "    tax = level1 + level2 + level3 + level4 + ((income - 4400000) * 0.4)\n",
    "else:\n",
    "    tax = level1 + level2 + level3 + level4 + level5 + ((income - 10000000) * 0.45)\n",
    "\n",
    "print(f'應繳稅額 = {tax}')  # 老師的寫法: print('應繳稅額 = ', tax)"
   ]
  }
 ],
 "metadata": {
  "kernelspec": {
   "display_name": "Python 3 (ipykernel)",
   "language": "python",
   "name": "python3"
  },
  "language_info": {
   "codemirror_mode": {
    "name": "ipython",
    "version": 3
   },
   "file_extension": ".py",
   "mimetype": "text/x-python",
   "name": "python",
   "nbconvert_exporter": "python",
   "pygments_lexer": "ipython3",
   "version": "3.12.7"
  }
 },
 "nbformat": 4,
 "nbformat_minor": 5
}
