{
 "cells": [
  {
   "cell_type": "code",
   "execution_count": 1,
   "id": "6c22aa69-f4ea-4397-9924-7c456f519def",
   "metadata": {},
   "outputs": [],
   "source": [
    "# 重複需 kernel / restart"
   ]
  },
  {
   "cell_type": "code",
   "execution_count": 3,
   "id": "344afe6d-e4e7-4a8f-bcd0-e7a1a6e61e30",
   "metadata": {},
   "outputs": [],
   "source": [
    "# gTTS (Google Text-to-Speech)建構式的 lang 語言代碼"
   ]
  },
  {
   "cell_type": "markdown",
   "id": "e29b0943-f818-4aae-b38b-c6e6089f4e91",
   "metadata": {},
   "source": [
    "#### 漢語:**zh-TW** 或 **zh-CN** | 英文:**en** | 日文:**ja** | 法文:**fr** | 俄語:**ru** | 西班牙語:**es**"
   ]
  },
  {
   "cell_type": "markdown",
   "id": "66f9e525-0e80-4700-a5d6-8be7421b1d62",
   "metadata": {},
   "source": [
    "# **中文**"
   ]
  },
  {
   "cell_type": "code",
   "execution_count": 6,
   "id": "b391ec89-e24a-4ac6-a3c5-619a436e38fd",
   "metadata": {},
   "outputs": [],
   "source": [
    "from gtts import gTTS\n",
    "tts = gTTS(text='珊珊，你還好嗎?', lang='zh-TW')\n",
    "tts.save('fa.mp3')"
   ]
  },
  {
   "cell_type": "code",
   "execution_count": 9,
   "id": "753fc270-e1ed-49e0-810a-486a8baeaa28",
   "metadata": {},
   "outputs": [
    {
     "name": "stdout",
     "output_type": "stream",
     "text": [
      "pygame 2.6.1 (SDL 2.28.4, Python 3.12.7)\n",
      "Hello from the pygame community. https://www.pygame.org/contribute.html\n"
     ]
    }
   ],
   "source": [
    "from pygame import mixer\n",
    "mixer.init()\n",
    "mixer.music.load('fa.mp3')\n",
    "mixer.music.play()"
   ]
  },
  {
   "cell_type": "markdown",
   "id": "50cc116b-a070-4203-8023-6c0989fb496e",
   "metadata": {},
   "source": [
    "# **日文**"
   ]
  },
  {
   "cell_type": "code",
   "execution_count": 12,
   "id": "010dc278-03d6-4f74-a7f7-8a5cd05adcc9",
   "metadata": {},
   "outputs": [],
   "source": [
    "from gtts import gTTS\n",
    "tts = gTTS(text='こんにちは', lang='ja')\n",
    "tts.save('japanese_hi.mp3')"
   ]
  },
  {
   "cell_type": "code",
   "execution_count": 14,
   "id": "1fa6b159-9ec9-45dc-9fad-166316699e9e",
   "metadata": {},
   "outputs": [],
   "source": [
    "from pygame import mixer\n",
    "mixer.init()\n",
    "mixer.music.load('japanese_hi.mp3')\n",
    "mixer.music.play()"
   ]
  },
  {
   "cell_type": "markdown",
   "id": "7f5c26a9-62f4-44cd-b42d-27bb8c79af8c",
   "metadata": {},
   "source": [
    "# **中文**"
   ]
  },
  {
   "cell_type": "code",
   "execution_count": 17,
   "id": "fff45a29-07c3-484c-8289-9f9815beffa0",
   "metadata": {},
   "outputs": [],
   "source": [
    "# temp file\n",
    "import tempfile\n",
    "def speak(sentence):\n",
    "    with tempfile.NamedTemporaryFile(delete=True) as fp:\n",
    "        tts1 = gTTS(text=sentence, lang='zh-CN')\n",
    "        tts1.save('{}.mp3'.format(fp.name))\n",
    "        mixer.music.load('{}.mp3'.format(fp.name))\n",
    "        mixer.music.play()"
   ]
  },
  {
   "cell_type": "code",
   "execution_count": 19,
   "id": "d7c370ba-7098-486c-9189-3724d84a9c64",
   "metadata": {},
   "outputs": [],
   "source": [
    "speak('今天過得如何?')"
   ]
  },
  {
   "cell_type": "markdown",
   "id": "1d7bf034-dd96-490b-8e2e-96816ebc7f3b",
   "metadata": {},
   "source": [
    "# **日文**"
   ]
  },
  {
   "cell_type": "code",
   "execution_count": 22,
   "id": "23a580aa-f56f-42ae-b173-74da8a6047d4",
   "metadata": {},
   "outputs": [],
   "source": [
    "# temp file\n",
    "import tempfile\n",
    "def speak(sentence):\n",
    "    with tempfile.NamedTemporaryFile(delete=True) as fp:\n",
    "        tts1 = gTTS(text=sentence, lang='ja')\n",
    "        tts1.save('{}.mp3'.format(fp.name))\n",
    "        mixer.music.load('{}.mp3'.format(fp.name))\n",
    "        mixer.music.play()"
   ]
  },
  {
   "cell_type": "code",
   "execution_count": 24,
   "id": "e3fa4f3e-9cfb-451a-bd90-10a826cadf17",
   "metadata": {},
   "outputs": [],
   "source": [
    "# 日本詩人／坂村真民 \"小小的花朵就好，不必是人人稱讚的大而美的花，無須被駐足欣賞，只要開著屬於自己的花就行了，只要神佛看得見就足夠了。\""
   ]
  },
  {
   "cell_type": "code",
   "execution_count": 26,
   "id": "92cf1654-2800-47df-8d4c-dac64cf3b565",
   "metadata": {},
   "outputs": [],
   "source": [
    "speak('小さい花でいいのだ、人にほめられるような大きな美しい花ではなく、だれからも足をとめて見られなくてもいい、本当の自分自身の花を咲かせたらいいのだ、それを神さま仏さまに見てもらえばいいのだ。')"
   ]
  },
  {
   "cell_type": "markdown",
   "id": "4f28289b-7c5c-418f-abe0-8a8ffc0020bb",
   "metadata": {},
   "source": [
    "# **放音樂**"
   ]
  },
  {
   "cell_type": "code",
   "execution_count": 29,
   "id": "9c87fead-7cf9-4313-9942-3af3b9e876f9",
   "metadata": {},
   "outputs": [],
   "source": [
    "from pygame import mixer\n",
    "mixer.init()\n",
    "mixer.music.load('background music.mp3')\n",
    "mixer.music.play()"
   ]
  }
 ],
 "metadata": {
  "kernelspec": {
   "display_name": "Python 3 (ipykernel)",
   "language": "python",
   "name": "python3"
  },
  "language_info": {
   "codemirror_mode": {
    "name": "ipython",
    "version": 3
   },
   "file_extension": ".py",
   "mimetype": "text/x-python",
   "name": "python",
   "nbconvert_exporter": "python",
   "pygments_lexer": "ipython3",
   "version": "3.12.7"
  }
 },
 "nbformat": 4,
 "nbformat_minor": 5
}
