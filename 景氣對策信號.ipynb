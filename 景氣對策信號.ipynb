{
 "cells": [
  {
   "cell_type": "code",
   "execution_count": 15,
   "id": "b2e1628d-eb84-46fa-b70e-96270909e02d",
   "metadata": {},
   "outputs": [
    {
     "name": "stdin",
     "output_type": "stream",
     "text": [
      "請輸入景氣對策信號綜合分數 :  10\n"
     ]
    },
    {
     "name": "stdout",
     "output_type": "stream",
     "text": [
      "\n",
      "藍燈\n"
     ]
    }
   ],
   "source": [
    "# 景氣對策信號\n",
    "\n",
    "score = int(input('請輸入景氣對策信號綜合分數 : '))\n",
    "\n",
    "print('')\n",
    "\n",
    "if score >= 45 or score < 9:\n",
    "    print('輸入錯誤')\n",
    "elif score >= 37:\n",
    "    print('紅燈')\n",
    "elif score >= 31:\n",
    "    print('黃紅燈')\n",
    "elif score >= 22:\n",
    "    print('綠燈')\n",
    "elif score >= 16:\n",
    "    print('黃藍燈')\n",
    "elif score >= 9:\n",
    "    print('藍燈')"
   ]
  }
 ],
 "metadata": {
  "kernelspec": {
   "display_name": "Python 3 (ipykernel)",
   "language": "python",
   "name": "python3"
  },
  "language_info": {
   "codemirror_mode": {
    "name": "ipython",
    "version": 3
   },
   "file_extension": ".py",
   "mimetype": "text/x-python",
   "name": "python",
   "nbconvert_exporter": "python",
   "pygments_lexer": "ipython3",
   "version": "3.12.7"
  }
 },
 "nbformat": 4,
 "nbformat_minor": 5
}
